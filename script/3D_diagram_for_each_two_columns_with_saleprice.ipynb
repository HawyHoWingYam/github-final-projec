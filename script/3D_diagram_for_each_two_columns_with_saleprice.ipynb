{
 "cells": [
  {
   "cell_type": "code",
   "execution_count": 16,
   "metadata": {},
   "outputs": [
    {
     "name": "stderr",
     "output_type": "stream",
     "text": [
      "Creating plots:   0%|          | 0/36 [00:00<?, ?plot/s]"
     ]
    },
    {
     "name": "stderr",
     "output_type": "stream",
     "text": [
      "Creating plots: 100%|██████████| 36/36 [04:16<00:00,  7.12s/plot]\n"
     ]
    }
   ],
   "source": [
    "import pandas as pd\n",
    "import matplotlib.pyplot as plt\n",
    "from tqdm import tqdm\n",
    "from mpl_toolkits.mplot3d import Axes3D\n",
    "import plotly.express as px\n",
    "\n",
    "# Load your dataset\n",
    "df = pd.read_csv(\"../data/train.csv\")\n",
    "\n",
    "# Define the column name for the sales price\n",
    "sales_price_column = \"SalePrice\"\n",
    "\n",
    "# Filter out the sales price column and non-numeric columns from the columns to plot against\n",
    "columns_to_plot = [\n",
    "    col\n",
    "    for col in df.columns\n",
    "    if col != sales_price_column\n",
    "    and col != \"Id\"\n",
    "    and pd.api.types.is_numeric_dtype(df[col])\n",
    "]\n",
    "\n",
    "# Loop through the DataFrame's columns and create a 3D plot for each unique pair\n",
    "for i in tqdm(range(len(columns_to_plot)), desc=\"Creating plots\", unit=\"plot\"):\n",
    "    for j in range(i + 1, len(columns_to_plot)):\n",
    "        # Create a new figure for each plot\n",
    "        fig = plt.figure(figsize=(15, 10))\n",
    "        ax = fig.add_subplot(111, projection=\"3d\")\n",
    "        col_x = columns_to_plot[i]\n",
    "        col_y = columns_to_plot[j]\n",
    "\n",
    "        # Create a 3D scatter plot\n",
    "        ax.scatter(df[col_x], df[col_y], df[sales_price_column])\n",
    "\n",
    "        # Set the plot title and labels\n",
    "        ax.set_title(f\"{col_x}, {col_y}, {sales_price_column}\")\n",
    "        ax.set_xlabel(col_x)\n",
    "        ax.set_ylabel(col_y)\n",
    "        ax.set_zlabel(sales_price_column)\n",
    "\n",
    "        # Save the plot to a file\n",
    "        plt.savefig(\n",
    "            f\"../diagram/3D/3D_plot_{col_x}_vs_{col_y}_vs_{sales_price_column}.png\"\n",
    "        )\n",
    "\n",
    "        # Close the figure to free memory\n",
    "        plt.close(fig)"
   ]
  }
 ],
 "metadata": {
  "kernelspec": {
   "display_name": "Python 3",
   "language": "python",
   "name": "python3"
  },
  "language_info": {
   "codemirror_mode": {
    "name": "ipython",
    "version": 3
   },
   "file_extension": ".py",
   "mimetype": "text/x-python",
   "name": "python",
   "nbconvert_exporter": "python",
   "pygments_lexer": "ipython3",
   "version": "3.11.1"
  }
 },
 "nbformat": 4,
 "nbformat_minor": 2
}
